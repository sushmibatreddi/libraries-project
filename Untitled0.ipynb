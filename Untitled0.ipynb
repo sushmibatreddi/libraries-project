{
  "nbformat": 4,
  "nbformat_minor": 0,
  "metadata": {
    "colab": {
      "name": "Untitled0.ipynb",
      "provenance": [],
      "collapsed_sections": [],
      "authorship_tag": "ABX9TyPTyOdRfqjGZi7B3WyfOZH0",
      "include_colab_link": true
    },
    "kernelspec": {
      "name": "python3",
      "display_name": "Python 3"
    },
    "language_info": {
      "name": "python"
    }
  },
  "cells": [
    {
      "cell_type": "markdown",
      "metadata": {
        "id": "view-in-github",
        "colab_type": "text"
      },
      "source": [
        "<a href=\"https://colab.research.google.com/github/sushmibatreddi/libraries-project/blob/main/Untitled0.ipynb\" target=\"_parent\"><img src=\"https://colab.research.google.com/assets/colab-badge.svg\" alt=\"Open In Colab\"/></a>"
      ]
    },
    {
      "cell_type": "code",
      "source": [
        ""
      ],
      "metadata": {
        "id": "YvgcIYpbDVrR"
      },
      "execution_count": null,
      "outputs": []
    },
    {
      "cell_type": "markdown",
      "source": [
        "1\n",
        "a)input and output handling"
      ],
      "metadata": {
        "id": "JNRnraLzBHCl"
      }
    },
    {
      "cell_type": "code",
      "source": [
        "a=int(input(\"Enter the value of a:\"))\n",
        "b=int(input(\"Enter the value of b:\"))\n",
        "c=a+b\n",
        "print(\"Addition is \",c)\n"
      ],
      "metadata": {
        "colab": {
          "base_uri": "https://localhost:8080/",
          "height": 0
        },
        "id": "1w9v_Xw0FT1h",
        "outputId": "94d5559c-ca23-4bac-ff3a-b21ec5302902"
      },
      "execution_count": 17,
      "outputs": [
        {
          "output_type": "stream",
          "name": "stdout",
          "text": [
            "Enter the value of a:11\n",
            "Enter the value of b:22\n",
            "Addition is  33\n"
          ]
        }
      ]
    },
    {
      "cell_type": "markdown",
      "source": [
        "b)looping constructs"
      ],
      "metadata": {
        "id": "7WpQz7CAGFoR"
      }
    },
    {
      "cell_type": "code",
      "source": [
        "for i in range(0,10):\n",
        "  print(i, end=\" \")"
      ],
      "metadata": {
        "colab": {
          "base_uri": "https://localhost:8080/",
          "height": 0
        },
        "id": "txb0ovscFrsU",
        "outputId": "d5564e54-9d19-4076-cb07-187ba1600cda"
      },
      "execution_count": 18,
      "outputs": [
        {
          "output_type": "stream",
          "name": "stdout",
          "text": [
            "0 1 2 3 4 5 6 7 8 9 "
          ]
        }
      ]
    },
    {
      "cell_type": "markdown",
      "source": [
        "c)Array Sets List Dictionary\n"
      ],
      "metadata": {
        "id": "XBw2cN8VGemp"
      }
    },
    {
      "cell_type": "markdown",
      "source": [
        "ARRAY"
      ],
      "metadata": {
        "id": "fzsoUIq0Hc15"
      }
    },
    {
      "cell_type": "code",
      "source": [
        "import array\n",
        "arr = array.array('i', [11, 34, 49, 66, 80])\n",
        "print (\"The new created array is : \", end =\"\")\n",
        "for i in range (0, 5): print (arr[i], end =\" \")\n",
        "print(\"\\n\")\n",
        "print (\"The popped element is : \", end =\"\")\n",
        "print (arr.pop (2))\n",
        "print (\"The array after popping is : \", end =\"\")\n",
        "for i in range (0, 4):\n",
        "  print (arr[i], end =\" \")"
      ],
      "metadata": {
        "colab": {
          "base_uri": "https://localhost:8080/",
          "height": 0
        },
        "id": "9DTCEG5ZGy7O",
        "outputId": "ffe72435-b580-496f-d963-033f86089079"
      },
      "execution_count": 20,
      "outputs": [
        {
          "output_type": "stream",
          "name": "stdout",
          "text": [
            "The new created array is : 11 34 49 66 80 \n",
            "\n",
            "The popped element is : 49\n",
            "The array after popping is : 11 34 66 80 "
          ]
        }
      ]
    },
    {
      "cell_type": "markdown",
      "source": [
        "LIST"
      ],
      "metadata": {
        "id": "-lldiIMPHg4Z"
      }
    },
    {
      "cell_type": "code",
      "source": [
        "animals = [\"panda\", \"puppy\", \"lion\", \"elephant\"]\n",
        "newlist = []\n",
        "for x in animals:\n",
        "  if \"a\" in x:\n",
        "    newlist.append(x)\n",
        "print(newlist)\n",
        "animals = [\"panda\", \"puppy\", \"lion\", \"elephant\"]\n",
        "newlist = [x for x in animals if \"a\" in x]\n",
        "print(newlist)"
      ],
      "metadata": {
        "colab": {
          "base_uri": "https://localhost:8080/",
          "height": 0
        },
        "id": "BxLQLzNbIAJX",
        "outputId": "88197eb4-dbc9-452a-adee-1c516778b549"
      },
      "execution_count": 22,
      "outputs": [
        {
          "output_type": "stream",
          "name": "stdout",
          "text": [
            "['panda', 'elephant']\n",
            "['panda', 'elephant']\n"
          ]
        }
      ]
    },
    {
      "cell_type": "markdown",
      "source": [
        "SETS"
      ],
      "metadata": {
        "id": "2uz3tJGeImcd"
      }
    },
    {
      "cell_type": "code",
      "source": [
        "students = {\"sushmi\",\"mannu\",\"madhu\", \"keerthi\"}\n",
        "print(\"students:\", end = \"\")\n",
        "print (students)\n",
        "students.add(\"mahi\")\n",
        "for i in range(1, 6): students.add(1)\n",
        "print(\"\\nset after adding element:\", end = \"\")\n",
        "print (students)"
      ],
      "metadata": {
        "colab": {
          "base_uri": "https://localhost:8080/",
          "height": 0
        },
        "id": "3wB7BCjHIpeV",
        "outputId": "03a8c22c-4539-459f-a901-2538fb906d65"
      },
      "execution_count": 24,
      "outputs": [
        {
          "output_type": "stream",
          "name": "stdout",
          "text": [
            "students:{'mannu', 'madhu', 'keerthi', 'sushmi'}\n",
            "\n",
            "set after adding element:{1, 'mannu', 'madhu', 'mahi', 'keerthi', 'sushmi'}\n"
          ]
        }
      ]
    },
    {
      "cell_type": "markdown",
      "source": [
        "DICTIONARY"
      ],
      "metadata": {
        "id": "JGXBrmC8JRDO"
      }
    },
    {
      "cell_type": "code",
      "source": [
        "Dict = {}\n",
        "Dict[0] = 'helLO'\n",
        "Dict[2] ='hii'\n",
        "Dict[3] = 11\n",
        "print(\"\\nDictionary after adding 3 elements: \")\n",
        "print(Dict)\n",
        "Dict['Value_set'] = 2, 3, 4\n",
        "print(\"\\nDictionary after adding 3 elements: \")\n",
        "print (Dict)\n",
        "Dict [2] ='WELCOME'\n",
        "print(\"\\nUpdated key value: \")\n",
        "print(Dict)"
      ],
      "metadata": {
        "colab": {
          "base_uri": "https://localhost:8080/",
          "height": 0
        },
        "id": "nwDmevnRJQlu",
        "outputId": "475219a5-a69e-41cf-c488-8857a463645a"
      },
      "execution_count": 28,
      "outputs": [
        {
          "output_type": "stream",
          "name": "stdout",
          "text": [
            "\n",
            "Dictionary after adding 3 elements: \n",
            "{0: 'helLO', 2: 'hii', 3: 11}\n",
            "\n",
            "Dictionary after adding 3 elements: \n",
            "{0: 'helLO', 2: 'hii', 3: 11, 'Value_set': (2, 3, 4)}\n",
            "\n",
            "Updated key value: \n",
            "{0: 'helLO', 2: 'WELCOME', 3: 11, 'Value_set': (2, 3, 4)}\n"
          ]
        }
      ]
    },
    {
      "cell_type": "markdown",
      "source": [
        "2\n",
        "a)Modules and Functions"
      ],
      "metadata": {
        "id": "OEuMGT1yKTzH"
      }
    },
    {
      "cell_type": "markdown",
      "source": [
        "Modules"
      ],
      "metadata": {
        "id": "jRJF6dNvK5TY"
      }
    },
    {
      "cell_type": "code",
      "source": [
        "import math\n",
        "n=int(input(\"Enter the value of n:\"))\n",
        "a=math.sqrt(n)\n",
        "print(\"the square root of n is:\",a)"
      ],
      "metadata": {
        "colab": {
          "base_uri": "https://localhost:8080/",
          "height": 0
        },
        "id": "WWRIIXStKfbs",
        "outputId": "4b2bea8f-163f-4bb7-b783-e49aabea8988"
      },
      "execution_count": 29,
      "outputs": [
        {
          "output_type": "stream",
          "name": "stdout",
          "text": [
            "Enter the value of n:64\n",
            "the square root of n is: 8.0\n"
          ]
        }
      ]
    },
    {
      "cell_type": "markdown",
      "source": [
        "Function"
      ],
      "metadata": {
        "id": "FwzLRiDcKwU4"
      }
    },
    {
      "cell_type": "code",
      "source": [
        "def mul(x):\n",
        "  return 11 * x\n",
        "print(mul(3))\n",
        "print(mul(5))\n",
        "print(mul(9))"
      ],
      "metadata": {
        "colab": {
          "base_uri": "https://localhost:8080/",
          "height": 0
        },
        "id": "Jl6o7PaiK_wg",
        "outputId": "cb2b4ce5-dd8b-440e-a178-fe3099bdcc36"
      },
      "execution_count": 31,
      "outputs": [
        {
          "output_type": "stream",
          "name": "stdout",
          "text": [
            "33\n",
            "55\n",
            "99\n"
          ]
        }
      ]
    },
    {
      "cell_type": "markdown",
      "source": [
        "b)File Handling"
      ],
      "metadata": {
        "id": "es2pATu2LXXX"
      }
    },
    {
      "cell_type": "code",
      "source": [
        "fo = open(\"dataclient2.txt\", \"wb\")\n",
        "print (\"File Name: \", fo.name)\n",
        "print (\"Mode of Opening: \", fo.mode)\n",
        "print (\"Is Closed: \", fo.closed)"
      ],
      "metadata": {
        "colab": {
          "base_uri": "https://localhost:8080/",
          "height": 0
        },
        "id": "Evo7Dck0LhLa",
        "outputId": "e62d4931-18e5-4c12-db00-9890cca0b04f"
      },
      "execution_count": 32,
      "outputs": [
        {
          "output_type": "stream",
          "name": "stdout",
          "text": [
            "File Name:  dataclient2.txt\n",
            "Mode of Opening:  wb\n",
            "Is Closed:  False\n"
          ]
        }
      ]
    },
    {
      "cell_type": "markdown",
      "source": [
        "c)Exception Handling"
      ],
      "metadata": {
        "id": "LsoQT_d_L3O2"
      }
    },
    {
      "cell_type": "code",
      "source": [
        "a = [3, 4, 6]\n",
        "try:\n",
        "     print(\"Second element=%d \"%(a[1]))\n",
        "     print(\"Fourth element=%d\"%(a[3]))\n",
        "except:\n",
        "    print(\"An error occurred\")"
      ],
      "metadata": {
        "colab": {
          "base_uri": "https://localhost:8080/",
          "height": 0
        },
        "id": "2xJCg91iL-vq",
        "outputId": "76e28366-b358-4c94-a323-616bc6cd3dae"
      },
      "execution_count": 34,
      "outputs": [
        {
          "output_type": "stream",
          "name": "stdout",
          "text": [
            "Second element=4 \n",
            "An error occurred\n"
          ]
        }
      ]
    },
    {
      "cell_type": "markdown",
      "source": [
        "3)From a given list, find the second largest value from the list"
      ],
      "metadata": {
        "id": "Im_sGWNoNrg7"
      }
    },
    {
      "cell_type": "code",
      "source": [
        "list1 = [7,6,2,1,5,4]\n",
        "mx=max(list1[0],list1[1])\n",
        "secondmax=min(list1[0],list1[1])\n",
        "n =len(list1)\n",
        "for i in range(2,n):\n",
        "    if list1[i]>mx:\n",
        "        secondmax=mx\n",
        "        mx=list1[i]\n",
        "    elif list1[i]>secondmax and \\\n",
        "        mx != list1[i]:\n",
        "        secondmax=list1[i]\n",
        "print(\"Second highest number is : \",\\\n",
        "      str(secondmax))"
      ],
      "metadata": {
        "colab": {
          "base_uri": "https://localhost:8080/",
          "height": 0
        },
        "id": "BnPI5spnMZUZ",
        "outputId": "2c5abfdb-8aba-448c-fb37-ff310c522a86"
      },
      "execution_count": 36,
      "outputs": [
        {
          "output_type": "stream",
          "name": "stdout",
          "text": [
            "Second highest number is :  6\n"
          ]
        }
      ]
    }
  ]
}